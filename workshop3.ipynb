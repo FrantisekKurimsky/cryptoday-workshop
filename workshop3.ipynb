{
 "cells": [
  {
   "cell_type": "markdown",
   "source": [
    "# Jarný  CyberSecurityDay 2023"
   ],
   "metadata": {
    "collapsed": false
   }
  },
  {
   "cell_type": "markdown",
   "source": [
    "## Workshop č. 2: Klasifikácia malvéru pomocou neurónových sietí\n",
    "- Klasifikácia malvéru pomáha analytikovi pochopiť správanie škodlivých súborov.\n",
    "- V rámci workshopu sa pozrieme na spôsoby, ako získať ohodnotený dataset.\n",
    "- Ukážeme viaceré možnosti vizuálnej reprezentácie a návrhy modelov neorónových sietí pre tento klasifikačný problém."
   ],
   "metadata": {
    "collapsed": false
   }
  },
  {
   "cell_type": "markdown",
   "source": [
    "### FLASK backend"
   ],
   "metadata": {
    "collapsed": false
   }
  },
  {
   "cell_type": "code",
   "execution_count": null,
   "outputs": [],
   "source": [
    "\\"
   ],
   "metadata": {
    "collapsed": false
   }
  }
 ],
 "metadata": {
  "kernelspec": {
   "display_name": "Python 3",
   "language": "python",
   "name": "python3"
  },
  "language_info": {
   "codemirror_mode": {
    "name": "ipython",
    "version": 2
   },
   "file_extension": ".py",
   "mimetype": "text/x-python",
   "name": "python",
   "nbconvert_exporter": "python",
   "pygments_lexer": "ipython2",
   "version": "2.7.6"
  }
 },
 "nbformat": 4,
 "nbformat_minor": 0
}
